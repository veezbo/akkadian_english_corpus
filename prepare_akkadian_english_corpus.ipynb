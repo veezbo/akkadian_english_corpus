{
 "cells": [
  {
   "cell_type": "code",
   "execution_count": 201,
   "metadata": {},
   "outputs": [],
   "source": [
    "MIN_SENTENCE_LENGTH = 100\n",
    "INPUT_FILE = 'data/train.en'\n",
    "OUTPUT_FILE = 'data/english_translated_akkadian_corpus.txt'"
   ]
  },
  {
   "cell_type": "code",
   "execution_count": 202,
   "metadata": {},
   "outputs": [],
   "source": [
    "data = open(INPUT_FILE, 'r').readlines()"
   ]
  },
  {
   "cell_type": "code",
   "execution_count": 203,
   "metadata": {},
   "outputs": [
    {
     "data": {
      "text/plain": [
       "['Precious scion of Baltil (Aššur), beloved of the god(dess) (DN and) Šērūa, ... , creation of the goddess Ninmena, who (... ) ... for the dominion of the lands, (... ) who grew up to be king, ... (... ) governor, (... ) ... , the one who increases voluntary offerings for ... , ... (... ) of emblems, (5) powerful male, light of all of his people, lord of (... ) all rulers ... , the one who overwhelms his foes, valiant man, the one who destroys (... ) enemies, who cuts (straight) through interlocking mountains like a (taut) string and ... \\n',\n",
       " 'warrior ... who made ... bow down at his feet ... , who put ... to the sword (lit. “weapon”), ... circumspect ... ,  \\n',\n",
       " '... he made ... kiss his feet ... mountains ... in/of battle ... he (a god) made my weapon/rule greater than all of those/the kings who sit on (royal) daises, (5) ... circumspect ... , ... exalted lion-dragon, ... inhabited world.\\n',\n",
       " 'I adorned them (statues of the gods) and they (the gods) went (back) to their land. I rebuilt those cities. I built a city on top of a tell (lit. “a heaped-up ruin mound”) called Ḫumut. I built (and) completed (it) from its foundations to its parapets. Inside (it), I founded a palace for my royal residence. I named it Kār-Aššur, set up the weapon of (the god) Aššur, my lord, therein, (and) settled the people of (foreign) lands conquered by me therein. I imposed upon them tax (and) tribute, (and) considered them as inhabitants of Assyria. \\n',\n",
       " 'I dug out the Patti-Enlil canal, which had lain abandoned for a very long time and \\n']"
      ]
     },
     "execution_count": 203,
     "metadata": {},
     "output_type": "execute_result"
    }
   ],
   "source": [
    "data[:5]"
   ]
  },
  {
   "cell_type": "code",
   "execution_count": 204,
   "metadata": {},
   "outputs": [
    {
     "data": {
      "text/plain": [
       "50478"
      ]
     },
     "execution_count": 204,
     "metadata": {},
     "output_type": "execute_result"
    }
   ],
   "source": [
    "len(data)"
   ]
  },
  {
   "cell_type": "code",
   "execution_count": 205,
   "metadata": {},
   "outputs": [],
   "source": [
    "data = [line for line in data if len(line) >= MIN_SENTENCE_LENGTH]"
   ]
  },
  {
   "cell_type": "code",
   "execution_count": 206,
   "metadata": {},
   "outputs": [
    {
     "data": {
      "text/plain": [
       "13281"
      ]
     },
     "execution_count": 206,
     "metadata": {},
     "output_type": "execute_result"
    }
   ],
   "source": [
    "len(data)"
   ]
  },
  {
   "cell_type": "code",
   "execution_count": 207,
   "metadata": {},
   "outputs": [
    {
     "data": {
      "text/plain": [
       "11042"
      ]
     },
     "execution_count": 207,
     "metadata": {},
     "output_type": "execute_result"
    }
   ],
   "source": [
    "data = [d for d in data if '...' not in d]\n",
    "len(data)"
   ]
  },
  {
   "cell_type": "code",
   "execution_count": 208,
   "metadata": {},
   "outputs": [
    {
     "data": {
      "text/plain": [
       "['I adorned them (statues of the gods) and they (the gods) went (back) to their land. I rebuilt those cities. I built a city on top of a tell (lit. “a heaped-up ruin mound”) called Ḫumut. I built (and) completed (it) from its foundations to its parapets. Inside (it), I founded a palace for my royal residence. I named it Kār-Aššur, set up the weapon of (the god) Aššur, my lord, therein, (and) settled the people of (foreign) lands conquered by me therein. I imposed upon them tax (and) tribute, (and) considered them as inhabitants of Assyria. \\n',\n",
       " 'From their sheep levy, which I take annually, I apportioned 240 sheep as a gift to (the god) Aššur, my lord. From those Arameans whom I deported, (10) I distributed (and) settled \\n',\n",
       " 'thousand (to) the province of the land Barḫa(l)zi, (and) 5,000 (to) the province of the land Mazamua. \\n',\n",
       " 'I united them, considered them as inhabitants of Assyria, (and) imposed the yoke of (the god) Aššur, my lord, upon them as Assyrians. (As for) the abandoned settlements on the periphery of my land that had become desolated during the reign(s) of (previous) kings, my ancestors,\\n',\n",
       " ', submitted, and became (my) vassal (lit. “took up corvée labor”) so that his district would not be dispersed. (Thus) I left him the city Karkariḫundir\\n']"
      ]
     },
     "execution_count": 208,
     "metadata": {},
     "output_type": "execute_result"
    }
   ],
   "source": [
    "data[:5]"
   ]
  },
  {
   "cell_type": "code",
   "execution_count": 209,
   "metadata": {},
   "outputs": [],
   "source": [
    "def remove_duplicate_lines_preserving_order(data):\n",
    "    seen = set()\n",
    "    return [x for x in data if not (x in seen or seen.add(x))]\n",
    "    "
   ]
  },
  {
   "cell_type": "code",
   "execution_count": 210,
   "metadata": {},
   "outputs": [
    {
     "data": {
      "text/plain": [
       "9720"
      ]
     },
     "execution_count": 210,
     "metadata": {},
     "output_type": "execute_result"
    }
   ],
   "source": [
    "data = remove_duplicate_lines_preserving_order(data)\n",
    "len(data)"
   ]
  },
  {
   "cell_type": "code",
   "execution_count": 211,
   "metadata": {},
   "outputs": [],
   "source": [
    "import regex as re\n",
    "\n",
    "TEXTUAL_NOTE_REGEX = r'\\s?\\(text:?\\s\\\"(.*?)\\\"\\)'\n",
    "\n",
    "TRANSLATION_NOTE_REGEX = r'[\\(<]([\\p{L}\\s,]+?)[\\)>]'\n",
    "TRANSLATION_NOTE_REPLACEMENT = r'\\1'\n",
    "\n",
    "GENERIC_PARENTHESES_NOTE_REGEX = r'\\s?\\(([^\\)]*\\d[^\\)]*)\\)'\n",
    "\n",
    "LITERAL_NOTE_REGEX = r'\\(lit\\.:?\\s\\\"(.*?)\\\"\\)'\n",
    "LITERAL_NOTE_REPLACEMENT = r'(\\1)'\n",
    "\n",
    "\n",
    "def process_line(line):\n",
    "    line = line.strip()\n",
    "    line = line.replace('“', '\"')\n",
    "    line = line.replace('”', '\"')\n",
    "\n",
    "    # print(re.findall(TEXTUAL_NOTE_REGEX, line))\n",
    "    line = re.sub(TEXTUAL_NOTE_REGEX, '', line)\n",
    "    # print(re.findall(TRANSLATION_NOTE_REGEX, line))\n",
    "    line = re.sub(TRANSLATION_NOTE_REGEX, TRANSLATION_NOTE_REPLACEMENT, line)\n",
    "    # print(re.findall(GENERIC_PARENTHESES_NOTE_REGEX, line))\n",
    "    line = re.sub(GENERIC_PARENTHESES_NOTE_REGEX, '', line)\n",
    "    # print(re.findall(LITERAL_NOTE_REGEX, line))\n",
    "    line = re.sub(LITERAL_NOTE_REGEX, LITERAL_NOTE_REPLACEMENT, line)\n",
    "    \n",
    "    return line"
   ]
  },
  {
   "cell_type": "code",
   "execution_count": 212,
   "metadata": {},
   "outputs": [
    {
     "data": {
      "text/plain": [
       "'I built a city on top of a tell (a heaped-up ruin mound) called Ḫumut and named it Kār-Aššur. I settled the people of foreign lands conquered by me therein and placed a eunuch of mine over them.'"
      ]
     },
     "execution_count": 212,
     "metadata": {},
     "output_type": "execute_result"
    }
   ],
   "source": [
    "process_line(\"I built a city on top of a tell (lit. “a heaped-up ruin mound”) called Ḫumut (and) named it Kār-Aššur. I settled the people of (foreign) lands conquered by me therein (and) placed a eunuch of mine over them.\")"
   ]
  },
  {
   "cell_type": "code",
   "execution_count": 213,
   "metadata": {},
   "outputs": [
    {
     "data": {
      "text/plain": [
       "'I smashed the land Bīt-Šilāni in its entirety like a pot. I destroyed the city Sarrabānu, its great royal city, making it like a tell after the Deluge and I plundered it. I impaled Nabû-ušabši, their king, before the gate of his city while making the people of his land watch. I carried off his wife, his sons, his daughters, his possessions, and the treasures of his palace.'"
      ]
     },
     "execution_count": 213,
     "metadata": {},
     "output_type": "execute_result"
    }
   ],
   "source": [
    "process_line(\"I smashed the land Bīt-Šilāni in its entirety like a pot. I destroyed the city Sarrabānu, its (text: “their”) great royal city, (making it) like a tell after the Deluge and I plundered it. (10) I impaled Nabû-ušabši, their king, before the gate of his city <while making> (the people of) his land <watch>. I carried off his wife, his sons, his daughters, his possessions, (and) the treasures of his palace. \")"
   ]
  },
  {
   "cell_type": "code",
   "execution_count": 214,
   "metadata": {},
   "outputs": [
    {
     "data": {
      "text/plain": [
       "'In my thirteen regnal year, in the month Ayyāru II, I got my chariot teams ready in Šuanna Babylon, prepared my military camp ... Before my arrival, he (Marduk-apla-iddina) evacuated the cities Bīt-Zabidāya, Iqbi-Bēl, Ḫursaggalla, ... , carried off as booty the people of the cities Ur, ... , Kissik, Nēmed-Laguda, and ... , and brought them into the city Dūr-Yakīn... He then strengthened its enclosure walls and, moving back a distance of one measuring rope from the front of its main wall, he made a moat two hundred cubits wide; he made the moat one and a half nindanu deep and reached ground water. He cut a channel from the Euphrates River, thereby making its water flow into its meadowland. He thus filled the city’s flatlands, where battles are fought, with water and cut the bridges. Together with his allies and his battle troops, he pitched his royal tent in a bend of the river (between rivers) like a crane and set up his military camp.'"
      ]
     },
     "execution_count": 214,
     "metadata": {},
     "output_type": "execute_result"
    }
   ],
   "source": [
    "process_line(\"In my thirteen regnal year, in the month Ayyāru (II), I got my (chariot) teams ready in Šuanna (Babylon), prepared my (military) camp ... Before my (arrival), he (Marduk-apla-iddina) evacuated the cities Bīt-Zabidāya, Iqbi-Bēl, Ḫursaggalla, ... , carried off as booty the people of (the cities) Ur, ... , Kissik, Nēmed-Laguda, (and) ... , (375) and brought (them) into the city Dūr-Yakīn... He then strengthened its enclosure walls (and), moving back a distance of (one) measuring rope from the front of its main wall, he made a moat two hundred cubits wide; he made (the moat) one and a half nindanu deep and reached ground water. He cut a channel from the Euphrates River, (thereby) making (its water) flow (in)to its meadowland. He (thus) filled the city’s flatlands, where battles (are fought), with water and cut the bridges. Together with his allies (and) his battle troops, he pitched his royal tent in a bend of the river (lit.: “between rivers”) like a crane and set up his (military) camp.\")"
   ]
  },
  {
   "cell_type": "code",
   "execution_count": 215,
   "metadata": {},
   "outputs": [
    {
     "data": {
      "text/plain": [
       "'I repaired the woeful desecrated state of the gods and goddess who lived in it, who had been displaced by floods and storm, and whose appearances had become dim; I made their dimmed appearance bright, cleaned their dirty garments, and had them permanently installed on their daises. As for the šēdus, lamassus, and rābiṣu-demons of the temple, I repaired their dilapidated parts, and I restationed them'"
      ]
     },
     "execution_count": 215,
     "metadata": {},
     "output_type": "execute_result"
    }
   ],
   "source": [
    "process_line(\"I repaired the woeful desecrated state of the gods and goddess who lived in it, who had been displaced by floods and storm, and whose appearances had become dim; I made their dimmed appearance bright, cleaned their dirty garments, (and) had them permanently installed on their daises. (As for) the šēdus, lamassus, (and) rābiṣu-demons of the temple, I repaired their dilapidated part(s), (and) I (re)stationed them \")"
   ]
  },
  {
   "cell_type": "code",
   "execution_count": 216,
   "metadata": {},
   "outputs": [
    {
     "data": {
      "text/plain": [
       "'matter. They were afflicted by thieving and murdering. They were stealing from the poor and giving to the mighty; there was oppression and the taking of bribes in the city. Every day, without ceasing, they stole goods from each other, a son cursed his father in the street, a slave'"
      ]
     },
     "execution_count": 216,
     "metadata": {},
     "output_type": "execute_result"
    }
   ],
   "source": [
    "process_line(\"matter. They were afflicted by thieving (and) murdering. They were stealing from the poor (and) giving to the mighty; there was oppression (and) the taking of bribes in the city. Every day, without ceasing, they stole goods from each other, a son (i 15') cursed his father in the street, a slave \")"
   ]
  },
  {
   "cell_type": "code",
   "execution_count": 217,
   "metadata": {},
   "outputs": [],
   "source": [
    "data = [process_line(d) for d in data]"
   ]
  },
  {
   "cell_type": "code",
   "execution_count": 218,
   "metadata": {},
   "outputs": [
    {
     "data": {
      "text/plain": [
       "['I adorned them statues of the gods and they the gods went back to their land. I rebuilt those cities. I built a city on top of a tell (a heaped-up ruin mound) called Ḫumut. I built and completed it from its foundations to its parapets. Inside it, I founded a palace for my royal residence. I named it Kār-Aššur, set up the weapon of the god Aššur, my lord, therein, and settled the people of foreign lands conquered by me therein. I imposed upon them tax and tribute, and considered them as inhabitants of Assyria.',\n",
       " 'From their sheep levy, which I take annually, I apportioned 240 sheep as a gift to the god Aššur, my lord. From those Arameans whom I deported, I distributed and settled',\n",
       " 'thousand to the province of the land Barḫalzi, and 5,000 to the province of the land Mazamua.',\n",
       " 'I united them, considered them as inhabitants of Assyria, and imposed the yoke of the god Aššur, my lord, upon them as Assyrians. As for the abandoned settlements on the periphery of my land that had become desolated during the reigns of previous kings, my ancestors,',\n",
       " ', submitted, and became my vassal (took up corvée labor) so that his district would not be dispersed. Thus I left him the city Karkariḫundir']"
      ]
     },
     "execution_count": 218,
     "metadata": {},
     "output_type": "execute_result"
    }
   ],
   "source": [
    "data[:5]"
   ]
  },
  {
   "cell_type": "code",
   "execution_count": 219,
   "metadata": {},
   "outputs": [
    {
     "data": {
      "text/plain": [
       "['I waited at the well Ṣumūa, which is located between the well Makiru and the well Gallabu, for one whole day in the month Duʾūzu. Opposite the well Ṣumūa were four pens which did not hold any sheep. I knew, however, that the well Ṣumūa',\n",
       " 'I inflicted this defeat by the power of the gods Šamaš and Marduk, Adad and Apla-Adad, the great gods, my lords. Anyone in the future who comes forward and should ask the elders of his land and the elders of the land of Laqû: \"Is it true that Ninurta-kudurrī-uṣur, governor of the land of Sūḫu and the land of Mari,',\n",
       " 'they allowed me to trample my enemy under my feet. No one in the future who comes forward should say: \"How did Ninurta-kudurrī-uṣur inflict this defeat?\" By the gods Adad and Apla-Adad',\n",
       " 'The palace of Enamḫe-zēra-ibni, governor of the land of Sūḫu and the land of Mari, which is located in the district of the city Raʾil,',\n",
       " 'I, Ninurta-kudurrī-uṣur, governor of the land of Sūḫu and the land of Mari, son of Šamaš-rēša-uṣur, ditto governor of the land of Sūḫu and the land of Mari, descendant of Adad-nādin-zēri, ditto governor of the land of Sūḫu and the land of Mari, one of the enduring lineage of Tunamissaḫ, son of Ḫammu-rāpi, king of Babylon —']"
      ]
     },
     "execution_count": 219,
     "metadata": {},
     "output_type": "execute_result"
    }
   ],
   "source": [
    "data[-5:]"
   ]
  },
  {
   "cell_type": "code",
   "execution_count": 220,
   "metadata": {},
   "outputs": [],
   "source": [
    "print('\\n'.join(data), file=open(OUTPUT_FILE, 'w'))"
   ]
  },
  {
   "cell_type": "code",
   "execution_count": null,
   "metadata": {},
   "outputs": [],
   "source": []
  }
 ],
 "metadata": {
  "kernelspec": {
   "display_name": "Python 3",
   "language": "python",
   "name": "python3"
  },
  "language_info": {
   "codemirror_mode": {
    "name": "ipython",
    "version": 3
   },
   "file_extension": ".py",
   "mimetype": "text/x-python",
   "name": "python",
   "nbconvert_exporter": "python",
   "pygments_lexer": "ipython3",
   "version": "3.11.4"
  },
  "orig_nbformat": 4
 },
 "nbformat": 4,
 "nbformat_minor": 2
}
